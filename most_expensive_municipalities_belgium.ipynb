{
 "cells": [
  {
   "cell_type": "code",
   "execution_count": 1,
   "metadata": {},
   "outputs": [],
   "source": [
    "# import the required modules and create a dataframe from the dataset\n",
    "\n",
    "import numpy as np\n",
    "import pandas as pd\n",
    "import matplotlib.pyplot as plt\n",
    "from scipy import stats\n",
    "\n",
    "df = pd.read_csv(\"dataset-cleaned.csv\")\n",
    "# df = pd.read_csv(\"C:\\\\Users\\\\vpala\\Artificial Intelligence\\\\BeCode\\\\challenge-collecting-data\\\\utils\\\\properties.csv\")"
   ]
  },
  {
   "cell_type": "code",
   "execution_count": 137,
   "metadata": {},
   "outputs": [
    {
     "data": {
      "text/html": [
       "<div>\n",
       "<style scoped>\n",
       "    .dataframe tbody tr th:only-of-type {\n",
       "        vertical-align: middle;\n",
       "    }\n",
       "\n",
       "    .dataframe tbody tr th {\n",
       "        vertical-align: top;\n",
       "    }\n",
       "\n",
       "    .dataframe thead th {\n",
       "        text-align: right;\n",
       "    }\n",
       "</style>\n",
       "<table border=\"1\" class=\"dataframe\">\n",
       "  <thead>\n",
       "    <tr style=\"text-align: right;\">\n",
       "      <th></th>\n",
       "      <th>Unnamed: 0</th>\n",
       "      <th>Unnamed: 0.1</th>\n",
       "      <th>locality</th>\n",
       "      <th>proprety_type</th>\n",
       "      <th>price</th>\n",
       "      <th>bedrooms</th>\n",
       "      <th>area</th>\n",
       "      <th>equipped_kitchen</th>\n",
       "      <th>furnished</th>\n",
       "      <th>open_fire</th>\n",
       "      <th>terrace</th>\n",
       "      <th>terrace_area</th>\n",
       "      <th>garden</th>\n",
       "      <th>garden_area</th>\n",
       "      <th>surface</th>\n",
       "      <th>surface_plot</th>\n",
       "      <th>facades</th>\n",
       "      <th>state</th>\n",
       "      <th>swimming_pool</th>\n",
       "    </tr>\n",
       "  </thead>\n",
       "  <tbody>\n",
       "    <tr>\n",
       "      <th>0</th>\n",
       "      <td>0</td>\n",
       "      <td>0</td>\n",
       "      <td>6061 Montignies-sur-Sambre</td>\n",
       "      <td>House</td>\n",
       "      <td>35000</td>\n",
       "      <td>3</td>\n",
       "      <td>201</td>\n",
       "      <td>Installed</td>\n",
       "      <td>0</td>\n",
       "      <td>0</td>\n",
       "      <td>0</td>\n",
       "      <td>NaN</td>\n",
       "      <td>0</td>\n",
       "      <td>NaN</td>\n",
       "      <td>201</td>\n",
       "      <td>201</td>\n",
       "      <td>2</td>\n",
       "      <td>To restore</td>\n",
       "      <td>0</td>\n",
       "    </tr>\n",
       "    <tr>\n",
       "      <th>1</th>\n",
       "      <td>1</td>\n",
       "      <td>1</td>\n",
       "      <td>6183 Trazegnies</td>\n",
       "      <td>House</td>\n",
       "      <td>35000</td>\n",
       "      <td>2</td>\n",
       "      <td>201</td>\n",
       "      <td>Installed</td>\n",
       "      <td>0</td>\n",
       "      <td>0</td>\n",
       "      <td>0</td>\n",
       "      <td>NaN</td>\n",
       "      <td>0</td>\n",
       "      <td>NaN</td>\n",
       "      <td>201</td>\n",
       "      <td>201</td>\n",
       "      <td>2</td>\n",
       "      <td>Good</td>\n",
       "      <td>0</td>\n",
       "    </tr>\n",
       "    <tr>\n",
       "      <th>2</th>\n",
       "      <td>2</td>\n",
       "      <td>2</td>\n",
       "      <td>6020 Dampremy</td>\n",
       "      <td>House</td>\n",
       "      <td>35000</td>\n",
       "      <td>2</td>\n",
       "      <td>201</td>\n",
       "      <td>Installed</td>\n",
       "      <td>0</td>\n",
       "      <td>0</td>\n",
       "      <td>0</td>\n",
       "      <td>NaN</td>\n",
       "      <td>0</td>\n",
       "      <td>NaN</td>\n",
       "      <td>201</td>\n",
       "      <td>201</td>\n",
       "      <td>2</td>\n",
       "      <td>To renovate</td>\n",
       "      <td>0</td>\n",
       "    </tr>\n",
       "    <tr>\n",
       "      <th>3</th>\n",
       "      <td>3</td>\n",
       "      <td>3</td>\n",
       "      <td>6592 Monceau-Imbrechies</td>\n",
       "      <td>House</td>\n",
       "      <td>35000</td>\n",
       "      <td>3</td>\n",
       "      <td>201</td>\n",
       "      <td>Installed</td>\n",
       "      <td>0</td>\n",
       "      <td>0</td>\n",
       "      <td>0</td>\n",
       "      <td>NaN</td>\n",
       "      <td>0</td>\n",
       "      <td>NaN</td>\n",
       "      <td>201</td>\n",
       "      <td>201</td>\n",
       "      <td>2</td>\n",
       "      <td>Good</td>\n",
       "      <td>0</td>\n",
       "    </tr>\n",
       "    <tr>\n",
       "      <th>4</th>\n",
       "      <td>4</td>\n",
       "      <td>4</td>\n",
       "      <td>7390 Quaregnon</td>\n",
       "      <td>House</td>\n",
       "      <td>35000</td>\n",
       "      <td>2</td>\n",
       "      <td>94</td>\n",
       "      <td>Installed</td>\n",
       "      <td>0</td>\n",
       "      <td>0</td>\n",
       "      <td>0</td>\n",
       "      <td>NaN</td>\n",
       "      <td>0</td>\n",
       "      <td>NaN</td>\n",
       "      <td>94</td>\n",
       "      <td>44</td>\n",
       "      <td>2</td>\n",
       "      <td>To renovate</td>\n",
       "      <td>0</td>\n",
       "    </tr>\n",
       "  </tbody>\n",
       "</table>\n",
       "</div>"
      ],
      "text/plain": [
       "   Unnamed: 0  Unnamed: 0.1                    locality proprety_type  price  \\\n",
       "0           0             0  6061 Montignies-sur-Sambre         House  35000   \n",
       "1           1             1             6183 Trazegnies         House  35000   \n",
       "2           2             2               6020 Dampremy         House  35000   \n",
       "3           3             3     6592 Monceau-Imbrechies         House  35000   \n",
       "4           4             4              7390 Quaregnon         House  35000   \n",
       "\n",
       "   bedrooms  area equipped_kitchen  furnished  open_fire  terrace  \\\n",
       "0         3   201        Installed          0          0        0   \n",
       "1         2   201        Installed          0          0        0   \n",
       "2         2   201        Installed          0          0        0   \n",
       "3         3   201        Installed          0          0        0   \n",
       "4         2    94        Installed          0          0        0   \n",
       "\n",
       "   terrace_area  garden  garden_area  surface  surface_plot  facades  \\\n",
       "0           NaN       0          NaN      201           201        2   \n",
       "1           NaN       0          NaN      201           201        2   \n",
       "2           NaN       0          NaN      201           201        2   \n",
       "3           NaN       0          NaN      201           201        2   \n",
       "4           NaN       0          NaN       94            44        2   \n",
       "\n",
       "          state  swimming_pool  \n",
       "0    To restore              0  \n",
       "1          Good              0  \n",
       "2   To renovate              0  \n",
       "3          Good              0  \n",
       "4   To renovate              0  "
      ]
     },
     "execution_count": 137,
     "metadata": {},
     "output_type": "execute_result"
    }
   ],
   "source": [
    "# show first rows of the dataframe\n",
    "\n",
    "df.head()"
   ]
  },
  {
   "cell_type": "code",
   "execution_count": 138,
   "metadata": {},
   "outputs": [],
   "source": [
    "# drop the first two columns\n",
    "\n",
    "df = df.drop([\"Unnamed: 0\", \"Unnamed: 0.1\"], axis=1)"
   ]
  },
  {
   "cell_type": "code",
   "execution_count": 142,
   "metadata": {},
   "outputs": [
    {
     "data": {
      "text/plain": [
       "Index(['locality', 'proprety_type', 'price', 'bedrooms', 'area',\n",
       "       'equipped_kitchen', 'furnished', 'open_fire', 'terrace', 'terrace_area',\n",
       "       'garden', 'garden_area', 'surface', 'surface_plot', 'facades', 'state',\n",
       "       'swimming_pool'],\n",
       "      dtype='object')"
      ]
     },
     "execution_count": 142,
     "metadata": {},
     "output_type": "execute_result"
    }
   ],
   "source": [
    "df.columns"
   ]
  },
  {
   "cell_type": "markdown",
   "metadata": {},
   "source": [
    "# Number of rows and columns in the dataframe :"
   ]
  },
  {
   "cell_type": "code",
   "execution_count": 192,
   "metadata": {},
   "outputs": [
    {
     "name": "stdout",
     "output_type": "stream",
     "text": [
      "There are 13505 rows and 19 columns in the dataframe.\n"
     ]
    }
   ],
   "source": [
    "print(f\"There are {df.shape[0]} rows and {df.shape[1]} columns in the dataframe.\")"
   ]
  },
  {
   "cell_type": "markdown",
   "metadata": {},
   "source": [
    "# Target variable : price"
   ]
  },
  {
   "cell_type": "code",
   "execution_count": 141,
   "metadata": {},
   "outputs": [
    {
     "name": "stdout",
     "output_type": "stream",
     "text": [
      "Price mean : 507788\n",
      "Price median : 165000\n",
      "Price standard deviation : 841968\n"
     ]
    }
   ],
   "source": [
    "# mean and median of house prices\n",
    "\n",
    "print(f\"Price mean : {round(df.price.mean())}\\nPrice median : {round(df.price.median())}\\nPrice standard deviation : {round(df.price.std())}\")"
   ]
  },
  {
   "cell_type": "code",
   "execution_count": 35,
   "metadata": {},
   "outputs": [
    {
     "data": {
      "image/png": "[encoded data removed]",
      "text/plain": [
       "<Figure size 432x288 with 1 Axes>"
      ]
     },
     "metadata": {
      "needs_background": "light"
     },
     "output_type": "display_data"
    }
   ],
   "source": [
    "plt.boxplot(df.price)\n",
    "plt.show()"
   ]
  },
  {
   "cell_type": "code",
   "execution_count": 85,
   "metadata": {},
   "outputs": [],
   "source": [
    "# remove outliers\n",
    "\n",
    "clean_price = df[abs(stats.zscore(df.price)) < 3]"
   ]
  },
  {
   "cell_type": "code",
   "execution_count": 37,
   "metadata": {},
   "outputs": [
    {
     "data": {
      "image/png": "[encoded data removed]",
      "text/plain": [
       "<Figure size 432x288 with 1 Axes>"
      ]
     },
     "metadata": {
      "needs_background": "light"
     },
     "output_type": "display_data"
    }
   ],
   "source": [
    "plt.boxplot(clean_price.price)\n",
    "plt.show()"
   ]
  },
  {
   "cell_type": "code",
   "execution_count": 38,
   "metadata": {},
   "outputs": [
    {
     "data": {
      "image/png": "[encoded data removed]",
      "text/plain": [
       "<Figure size 432x288 with 1 Axes>"
      ]
     },
     "metadata": {
      "needs_background": "light"
     },
     "output_type": "display_data"
    }
   ],
   "source": [
    "plt.hist(clean_price.price)\n",
    "plt.show()"
   ]
  },
  {
   "cell_type": "code",
   "execution_count": 39,
   "metadata": {},
   "outputs": [
    {
     "name": "stderr",
     "output_type": "stream",
     "text": [
      "C:\\Users\\vpala\\AppData\\Local\\Programs\\Python\\Python310\\lib\\site-packages\\seaborn\\distributions.py:2619: FutureWarning: `distplot` is a deprecated function and will be removed in a future version. Please adapt your code to use either `displot` (a figure-level function with similar flexibility) or `histplot` (an axes-level function for histograms).\n",
      "  warnings.warn(msg, FutureWarning)\n"
     ]
    },
    {
     "data": {
      "text/plain": [
       "<AxesSubplot:xlabel='price'>"
      ]
     },
     "execution_count": 39,
     "metadata": {},
     "output_type": "execute_result"
    },
    {
     "data": {
      "image/png": "[encoded data removed]",
      "text/plain": [
       "<Figure size 1008x576 with 1 Axes>"
      ]
     },
     "metadata": {
      "needs_background": "light"
     },
     "output_type": "display_data"
    }
   ],
   "source": [
    "import seaborn as sns\n",
    "\n",
    "plt.figure(figsize=(14,8))\n",
    "sns.distplot(clean_price[\"price\"], kde=False)"
   ]
  },
  {
   "cell_type": "markdown",
   "metadata": {},
   "source": [
    "# Correlation between the variables and the target :"
   ]
  },
  {
   "cell_type": "code",
   "execution_count": 191,
   "metadata": {},
   "outputs": [
    {
     "data": {
      "text/html": [
       "<div>\n",
       "<style scoped>\n",
       "    .dataframe tbody tr th:only-of-type {\n",
       "        vertical-align: middle;\n",
       "    }\n",
       "\n",
       "    .dataframe tbody tr th {\n",
       "        vertical-align: top;\n",
       "    }\n",
       "\n",
       "    .dataframe thead th {\n",
       "        text-align: right;\n",
       "    }\n",
       "</style>\n",
       "<table border=\"1\" class=\"dataframe\">\n",
       "  <thead>\n",
       "    <tr style=\"text-align: right;\">\n",
       "      <th></th>\n",
       "      <th>price</th>\n",
       "      <th>bedrooms</th>\n",
       "      <th>area</th>\n",
       "      <th>furnished</th>\n",
       "      <th>open_fire</th>\n",
       "      <th>terrace</th>\n",
       "      <th>terrace_area</th>\n",
       "      <th>garden</th>\n",
       "      <th>garden_area</th>\n",
       "      <th>surface</th>\n",
       "      <th>surface_plot</th>\n",
       "      <th>facades</th>\n",
       "      <th>swimming_pool</th>\n",
       "      <th>price_square_meters</th>\n",
       "    </tr>\n",
       "  </thead>\n",
       "  <tbody>\n",
       "    <tr>\n",
       "      <th>price</th>\n",
       "      <td>1</td>\n",
       "      <td>0</td>\n",
       "      <td>0</td>\n",
       "      <td>-0</td>\n",
       "      <td>NaN</td>\n",
       "      <td>0</td>\n",
       "      <td>0</td>\n",
       "      <td>0</td>\n",
       "      <td>0</td>\n",
       "      <td>0</td>\n",
       "      <td>0</td>\n",
       "      <td>0</td>\n",
       "      <td>0</td>\n",
       "      <td>1</td>\n",
       "    </tr>\n",
       "    <tr>\n",
       "      <th>bedrooms</th>\n",
       "      <td>0</td>\n",
       "      <td>1</td>\n",
       "      <td>1</td>\n",
       "      <td>0</td>\n",
       "      <td>NaN</td>\n",
       "      <td>0</td>\n",
       "      <td>0</td>\n",
       "      <td>0</td>\n",
       "      <td>0</td>\n",
       "      <td>1</td>\n",
       "      <td>0</td>\n",
       "      <td>0</td>\n",
       "      <td>0</td>\n",
       "      <td>0</td>\n",
       "    </tr>\n",
       "    <tr>\n",
       "      <th>area</th>\n",
       "      <td>0</td>\n",
       "      <td>1</td>\n",
       "      <td>1</td>\n",
       "      <td>-0</td>\n",
       "      <td>NaN</td>\n",
       "      <td>-0</td>\n",
       "      <td>0</td>\n",
       "      <td>0</td>\n",
       "      <td>0</td>\n",
       "      <td>1</td>\n",
       "      <td>0</td>\n",
       "      <td>0</td>\n",
       "      <td>0</td>\n",
       "      <td>-0</td>\n",
       "    </tr>\n",
       "    <tr>\n",
       "      <th>furnished</th>\n",
       "      <td>-0</td>\n",
       "      <td>0</td>\n",
       "      <td>-0</td>\n",
       "      <td>1</td>\n",
       "      <td>NaN</td>\n",
       "      <td>-0</td>\n",
       "      <td>-0</td>\n",
       "      <td>-0</td>\n",
       "      <td>-0</td>\n",
       "      <td>-0</td>\n",
       "      <td>-0</td>\n",
       "      <td>-0</td>\n",
       "      <td>-0</td>\n",
       "      <td>0</td>\n",
       "    </tr>\n",
       "    <tr>\n",
       "      <th>open_fire</th>\n",
       "      <td>NaN</td>\n",
       "      <td>NaN</td>\n",
       "      <td>NaN</td>\n",
       "      <td>NaN</td>\n",
       "      <td>NaN</td>\n",
       "      <td>NaN</td>\n",
       "      <td>NaN</td>\n",
       "      <td>NaN</td>\n",
       "      <td>NaN</td>\n",
       "      <td>NaN</td>\n",
       "      <td>NaN</td>\n",
       "      <td>NaN</td>\n",
       "      <td>NaN</td>\n",
       "      <td>NaN</td>\n",
       "    </tr>\n",
       "    <tr>\n",
       "      <th>terrace</th>\n",
       "      <td>0</td>\n",
       "      <td>0</td>\n",
       "      <td>-0</td>\n",
       "      <td>-0</td>\n",
       "      <td>NaN</td>\n",
       "      <td>1</td>\n",
       "      <td>NaN</td>\n",
       "      <td>0</td>\n",
       "      <td>-0</td>\n",
       "      <td>-0</td>\n",
       "      <td>-0</td>\n",
       "      <td>0</td>\n",
       "      <td>0</td>\n",
       "      <td>0</td>\n",
       "    </tr>\n",
       "    <tr>\n",
       "      <th>terrace_area</th>\n",
       "      <td>0</td>\n",
       "      <td>0</td>\n",
       "      <td>0</td>\n",
       "      <td>-0</td>\n",
       "      <td>NaN</td>\n",
       "      <td>NaN</td>\n",
       "      <td>1</td>\n",
       "      <td>0</td>\n",
       "      <td>0</td>\n",
       "      <td>0</td>\n",
       "      <td>0</td>\n",
       "      <td>0</td>\n",
       "      <td>0</td>\n",
       "      <td>0</td>\n",
       "    </tr>\n",
       "    <tr>\n",
       "      <th>garden</th>\n",
       "      <td>0</td>\n",
       "      <td>0</td>\n",
       "      <td>0</td>\n",
       "      <td>-0</td>\n",
       "      <td>NaN</td>\n",
       "      <td>0</td>\n",
       "      <td>0</td>\n",
       "      <td>1</td>\n",
       "      <td>NaN</td>\n",
       "      <td>0</td>\n",
       "      <td>0</td>\n",
       "      <td>0</td>\n",
       "      <td>0</td>\n",
       "      <td>-0</td>\n",
       "    </tr>\n",
       "    <tr>\n",
       "      <th>garden_area</th>\n",
       "      <td>0</td>\n",
       "      <td>0</td>\n",
       "      <td>0</td>\n",
       "      <td>-0</td>\n",
       "      <td>NaN</td>\n",
       "      <td>-0</td>\n",
       "      <td>0</td>\n",
       "      <td>NaN</td>\n",
       "      <td>1</td>\n",
       "      <td>0</td>\n",
       "      <td>1</td>\n",
       "      <td>0</td>\n",
       "      <td>-0</td>\n",
       "      <td>0</td>\n",
       "    </tr>\n",
       "    <tr>\n",
       "      <th>surface</th>\n",
       "      <td>0</td>\n",
       "      <td>1</td>\n",
       "      <td>1</td>\n",
       "      <td>-0</td>\n",
       "      <td>NaN</td>\n",
       "      <td>-0</td>\n",
       "      <td>0</td>\n",
       "      <td>0</td>\n",
       "      <td>0</td>\n",
       "      <td>1</td>\n",
       "      <td>0</td>\n",
       "      <td>0</td>\n",
       "      <td>0</td>\n",
       "      <td>-0</td>\n",
       "    </tr>\n",
       "    <tr>\n",
       "      <th>surface_plot</th>\n",
       "      <td>0</td>\n",
       "      <td>0</td>\n",
       "      <td>0</td>\n",
       "      <td>-0</td>\n",
       "      <td>NaN</td>\n",
       "      <td>-0</td>\n",
       "      <td>0</td>\n",
       "      <td>0</td>\n",
       "      <td>1</td>\n",
       "      <td>0</td>\n",
       "      <td>1</td>\n",
       "      <td>0</td>\n",
       "      <td>-0</td>\n",
       "      <td>0</td>\n",
       "    </tr>\n",
       "    <tr>\n",
       "      <th>facades</th>\n",
       "      <td>0</td>\n",
       "      <td>0</td>\n",
       "      <td>0</td>\n",
       "      <td>-0</td>\n",
       "      <td>NaN</td>\n",
       "      <td>0</td>\n",
       "      <td>0</td>\n",
       "      <td>0</td>\n",
       "      <td>0</td>\n",
       "      <td>0</td>\n",
       "      <td>0</td>\n",
       "      <td>1</td>\n",
       "      <td>0</td>\n",
       "      <td>0</td>\n",
       "    </tr>\n",
       "    <tr>\n",
       "      <th>swimming_pool</th>\n",
       "      <td>0</td>\n",
       "      <td>0</td>\n",
       "      <td>0</td>\n",
       "      <td>-0</td>\n",
       "      <td>NaN</td>\n",
       "      <td>0</td>\n",
       "      <td>0</td>\n",
       "      <td>0</td>\n",
       "      <td>-0</td>\n",
       "      <td>0</td>\n",
       "      <td>-0</td>\n",
       "      <td>0</td>\n",
       "      <td>1</td>\n",
       "      <td>0</td>\n",
       "    </tr>\n",
       "    <tr>\n",
       "      <th>price_square_meters</th>\n",
       "      <td>1</td>\n",
       "      <td>0</td>\n",
       "      <td>-0</td>\n",
       "      <td>0</td>\n",
       "      <td>NaN</td>\n",
       "      <td>0</td>\n",
       "      <td>0</td>\n",
       "      <td>-0</td>\n",
       "      <td>0</td>\n",
       "      <td>-0</td>\n",
       "      <td>0</td>\n",
       "      <td>0</td>\n",
       "      <td>0</td>\n",
       "      <td>1</td>\n",
       "    </tr>\n",
       "  </tbody>\n",
       "</table>\n",
       "</div>"
      ],
      "text/plain": [
       "                     price  bedrooms  area  furnished  open_fire  terrace  \\\n",
       "price                    1         0     0         -0        NaN        0   \n",
       "bedrooms                 0         1     1          0        NaN        0   \n",
       "area                     0         1     1         -0        NaN       -0   \n",
       "furnished               -0         0    -0          1        NaN       -0   \n",
       "open_fire              NaN       NaN   NaN        NaN        NaN      NaN   \n",
       "terrace                  0         0    -0         -0        NaN        1   \n",
       "terrace_area             0         0     0         -0        NaN      NaN   \n",
       "garden                   0         0     0         -0        NaN        0   \n",
       "garden_area              0         0     0         -0        NaN       -0   \n",
       "surface                  0         1     1         -0        NaN       -0   \n",
       "surface_plot             0         0     0         -0        NaN       -0   \n",
       "facades                  0         0     0         -0        NaN        0   \n",
       "swimming_pool            0         0     0         -0        NaN        0   \n",
       "price_square_meters      1         0    -0          0        NaN        0   \n",
       "\n",
       "                     terrace_area  garden  garden_area  surface  surface_plot  \\\n",
       "price                           0       0            0        0             0   \n",
       "bedrooms                        0       0            0        1             0   \n",
       "area                            0       0            0        1             0   \n",
       "furnished                      -0      -0           -0       -0            -0   \n",
       "open_fire                     NaN     NaN          NaN      NaN           NaN   \n",
       "terrace                       NaN       0           -0       -0            -0   \n",
       "terrace_area                    1       0            0        0             0   \n",
       "garden                          0       1          NaN        0             0   \n",
       "garden_area                     0     NaN            1        0             1   \n",
       "surface                         0       0            0        1             0   \n",
       "surface_plot                    0       0            1        0             1   \n",
       "facades                         0       0            0        0             0   \n",
       "swimming_pool                   0       0           -0        0            -0   \n",
       "price_square_meters             0      -0            0       -0             0   \n",
       "\n",
       "                     facades  swimming_pool  price_square_meters  \n",
       "price                      0              0                    1  \n",
       "bedrooms                   0              0                    0  \n",
       "area                       0              0                   -0  \n",
       "furnished                 -0             -0                    0  \n",
       "open_fire                NaN            NaN                  NaN  \n",
       "terrace                    0              0                    0  \n",
       "terrace_area               0              0                    0  \n",
       "garden                     0              0                   -0  \n",
       "garden_area                0             -0                    0  \n",
       "surface                    0              0                   -0  \n",
       "surface_plot               0             -0                    0  \n",
       "facades                    1              0                    0  \n",
       "swimming_pool              0              1                    0  \n",
       "price_square_meters        0              0                    1  "
      ]
     },
     "execution_count": 191,
     "metadata": {},
     "output_type": "execute_result"
    }
   ],
   "source": [
    "df.corr()"
   ]
  },
  {
   "cell_type": "markdown",
   "metadata": {},
   "source": [
    "### Correlation between the price and the number of bedrooms :"
   ]
  },
  {
   "cell_type": "code",
   "execution_count": 187,
   "metadata": {},
   "outputs": [
    {
     "data": {
      "text/plain": [
       "0.464"
      ]
     },
     "execution_count": 187,
     "metadata": {},
     "output_type": "execute_result"
    }
   ],
   "source": [
    "round(df[\"price\"].corr(df[\"bedrooms\"]), 3)"
   ]
  },
  {
   "cell_type": "markdown",
   "metadata": {},
   "source": [
    "### Correlation between the price and the surface :"
   ]
  },
  {
   "cell_type": "code",
   "execution_count": 188,
   "metadata": {},
   "outputs": [
    {
     "data": {
      "text/plain": [
       "0.456"
      ]
     },
     "execution_count": 188,
     "metadata": {},
     "output_type": "execute_result"
    }
   ],
   "source": [
    "round(df[\"price\"].corr(df[\"surface\"]), 3)"
   ]
  },
  {
   "cell_type": "markdown",
   "metadata": {},
   "source": [
    "### Correlation between the price and the terrace area :"
   ]
  },
  {
   "cell_type": "code",
   "execution_count": 189,
   "metadata": {},
   "outputs": [
    {
     "data": {
      "text/plain": [
       "0.36"
      ]
     },
     "execution_count": 189,
     "metadata": {},
     "output_type": "execute_result"
    }
   ],
   "source": [
    "round(df[\"price\"].corr(df[\"terrace_area\"]), 3)"
   ]
  },
  {
   "cell_type": "markdown",
   "metadata": {},
   "source": [
    "### Correlation between the price and the garden area :"
   ]
  },
  {
   "cell_type": "code",
   "execution_count": 190,
   "metadata": {},
   "outputs": [
    {
     "data": {
      "text/plain": [
       "0.158"
      ]
     },
     "execution_count": 190,
     "metadata": {},
     "output_type": "execute_result"
    }
   ],
   "source": [
    "round(df[\"price\"].corr(df[\"garden_area\"]), 3)"
   ]
  },
  {
   "cell_type": "markdown",
   "metadata": {},
   "source": [
    "# Most expensive municipalities in Belgium :"
   ]
  },
  {
   "cell_type": "code",
   "execution_count": 143,
   "metadata": {},
   "outputs": [],
   "source": [
    "df[\"locality_code\"] = df.locality.apply(lambda x: x[:4]) # create a new column with the postcode\n",
    "df[\"price_square_meters\"] = df[\"price\"]/df[\"surface\"] # create a column with the price per square meter"
   ]
  },
  {
   "cell_type": "code",
   "execution_count": 146,
   "metadata": {},
   "outputs": [
    {
     "data": {
      "text/plain": [
       "Index(['locality', 'proprety_type', 'price', 'bedrooms', 'area',\n",
       "       'equipped_kitchen', 'furnished', 'open_fire', 'terrace', 'terrace_area',\n",
       "       'garden', 'garden_area', 'surface', 'surface_plot', 'facades', 'state',\n",
       "       'swimming_pool', 'locality_code', 'price_square_meters'],\n",
       "      dtype='object')"
      ]
     },
     "execution_count": 146,
     "metadata": {},
     "output_type": "execute_result"
    }
   ],
   "source": [
    "df.columns"
   ]
  },
  {
   "cell_type": "code",
   "execution_count": 147,
   "metadata": {},
   "outputs": [
    {
     "data": {
      "text/html": [
       "<div>\n",
       "<style scoped>\n",
       "    .dataframe tbody tr th:only-of-type {\n",
       "        vertical-align: middle;\n",
       "    }\n",
       "\n",
       "    .dataframe tbody tr th {\n",
       "        vertical-align: top;\n",
       "    }\n",
       "\n",
       "    .dataframe thead th {\n",
       "        text-align: right;\n",
       "    }\n",
       "</style>\n",
       "<table border=\"1\" class=\"dataframe\">\n",
       "  <thead>\n",
       "    <tr style=\"text-align: right;\">\n",
       "      <th></th>\n",
       "      <th>locality_code</th>\n",
       "      <th>price_square_meters</th>\n",
       "    </tr>\n",
       "  </thead>\n",
       "  <tbody>\n",
       "    <tr>\n",
       "      <th>0</th>\n",
       "      <td>6061</td>\n",
       "      <td>174</td>\n",
       "    </tr>\n",
       "    <tr>\n",
       "      <th>1</th>\n",
       "      <td>6183</td>\n",
       "      <td>174</td>\n",
       "    </tr>\n",
       "    <tr>\n",
       "      <th>2</th>\n",
       "      <td>6020</td>\n",
       "      <td>174</td>\n",
       "    </tr>\n",
       "    <tr>\n",
       "      <th>3</th>\n",
       "      <td>6592</td>\n",
       "      <td>174</td>\n",
       "    </tr>\n",
       "    <tr>\n",
       "      <th>4</th>\n",
       "      <td>7390</td>\n",
       "      <td>372</td>\n",
       "    </tr>\n",
       "    <tr>\n",
       "      <th>...</th>\n",
       "      <td>...</td>\n",
       "      <td>...</td>\n",
       "    </tr>\n",
       "    <tr>\n",
       "      <th>13500</th>\n",
       "      <td>2000</td>\n",
       "      <td>6131</td>\n",
       "    </tr>\n",
       "    <tr>\n",
       "      <th>13501</th>\n",
       "      <td>2380</td>\n",
       "      <td>1301</td>\n",
       "    </tr>\n",
       "    <tr>\n",
       "      <th>13502</th>\n",
       "      <td>1950</td>\n",
       "      <td>9184</td>\n",
       "    </tr>\n",
       "    <tr>\n",
       "      <th>13503</th>\n",
       "      <td>8430</td>\n",
       "      <td>3632</td>\n",
       "    </tr>\n",
       "    <tr>\n",
       "      <th>13504</th>\n",
       "      <td>1120</td>\n",
       "      <td>2213</td>\n",
       "    </tr>\n",
       "  </tbody>\n",
       "</table>\n",
       "<p>13505 rows × 2 columns</p>\n",
       "</div>"
      ],
      "text/plain": [
       "      locality_code  price_square_meters\n",
       "0              6061                  174\n",
       "1              6183                  174\n",
       "2              6020                  174\n",
       "3              6592                  174\n",
       "4              7390                  372\n",
       "...             ...                  ...\n",
       "13500          2000                 6131\n",
       "13501          2380                 1301\n",
       "13502          1950                 9184\n",
       "13503          8430                 3632\n",
       "13504          1120                 2213\n",
       "\n",
       "[13505 rows x 2 columns]"
      ]
     },
     "execution_count": 147,
     "metadata": {},
     "output_type": "execute_result"
    }
   ],
   "source": [
    "df[[\"locality_code\", \"price_square_meters\"]]"
   ]
  },
  {
   "cell_type": "code",
   "execution_count": null,
   "metadata": {},
   "outputs": [],
   "source": [
    "pd.set_option('display.float_format', lambda x: '%.0f' % x) # avoid scientific notation of numbers"
   ]
  },
  {
   "cell_type": "markdown",
   "metadata": {},
   "source": [
    "### Mean price per locality :"
   ]
  },
  {
   "cell_type": "code",
   "execution_count": 193,
   "metadata": {},
   "outputs": [
    {
     "data": {
      "text/plain": [
       "locality_code\n",
       "3150   12775000\n",
       "7021    4390000\n",
       "3470    3900000\n",
       "1404    3200000\n",
       "2240    2975000\n",
       "Name: price, dtype: float64"
      ]
     },
     "execution_count": 193,
     "metadata": {},
     "output_type": "execute_result"
    }
   ],
   "source": [
    "df.groupby(\"locality_code\")[\"price\"].mean().sort_values(ascending=False).head()"
   ]
  },
  {
   "cell_type": "code",
   "execution_count": 161,
   "metadata": {},
   "outputs": [
    {
     "data": {
      "text/html": [
       "<div>\n",
       "<style scoped>\n",
       "    .dataframe tbody tr th:only-of-type {\n",
       "        vertical-align: middle;\n",
       "    }\n",
       "\n",
       "    .dataframe tbody tr th {\n",
       "        vertical-align: top;\n",
       "    }\n",
       "\n",
       "    .dataframe thead th {\n",
       "        text-align: right;\n",
       "    }\n",
       "</style>\n",
       "<table border=\"1\" class=\"dataframe\">\n",
       "  <thead>\n",
       "    <tr style=\"text-align: right;\">\n",
       "      <th></th>\n",
       "      <th>locality</th>\n",
       "      <th>proprety_type</th>\n",
       "      <th>price</th>\n",
       "      <th>bedrooms</th>\n",
       "      <th>area</th>\n",
       "      <th>equipped_kitchen</th>\n",
       "      <th>furnished</th>\n",
       "      <th>open_fire</th>\n",
       "      <th>terrace</th>\n",
       "      <th>terrace_area</th>\n",
       "      <th>garden</th>\n",
       "      <th>garden_area</th>\n",
       "      <th>surface</th>\n",
       "      <th>surface_plot</th>\n",
       "      <th>facades</th>\n",
       "      <th>state</th>\n",
       "      <th>swimming_pool</th>\n",
       "      <th>locality_code</th>\n",
       "      <th>price_square_meters</th>\n",
       "    </tr>\n",
       "  </thead>\n",
       "  <tbody>\n",
       "    <tr>\n",
       "      <th>3144</th>\n",
       "      <td>3150 Haacht</td>\n",
       "      <td>Apartment block</td>\n",
       "      <td>35000000</td>\n",
       "      <td>2</td>\n",
       "      <td>201</td>\n",
       "      <td>Installed</td>\n",
       "      <td>0</td>\n",
       "      <td>0</td>\n",
       "      <td>0</td>\n",
       "      <td>NaN</td>\n",
       "      <td>0</td>\n",
       "      <td>NaN</td>\n",
       "      <td>201</td>\n",
       "      <td>201</td>\n",
       "      <td>4</td>\n",
       "      <td>Good</td>\n",
       "      <td>0</td>\n",
       "      <td>3150</td>\n",
       "      <td>173752</td>\n",
       "    </tr>\n",
       "    <tr>\n",
       "      <th>3803</th>\n",
       "      <td>3150 Haacht</td>\n",
       "      <td>House</td>\n",
       "      <td>1950000</td>\n",
       "      <td>8</td>\n",
       "      <td>500</td>\n",
       "      <td>Hyper equipped</td>\n",
       "      <td>0</td>\n",
       "      <td>0</td>\n",
       "      <td>0</td>\n",
       "      <td>NaN</td>\n",
       "      <td>0</td>\n",
       "      <td>NaN</td>\n",
       "      <td>500</td>\n",
       "      <td>100000</td>\n",
       "      <td>4</td>\n",
       "      <td>Good</td>\n",
       "      <td>0</td>\n",
       "      <td>3150</td>\n",
       "      <td>3900</td>\n",
       "    </tr>\n",
       "    <tr>\n",
       "      <th>7688</th>\n",
       "      <td>3150 Tildonk</td>\n",
       "      <td>Manor house</td>\n",
       "      <td>1375000</td>\n",
       "      <td>3</td>\n",
       "      <td>280</td>\n",
       "      <td>Hyper equipped</td>\n",
       "      <td>0</td>\n",
       "      <td>0</td>\n",
       "      <td>1</td>\n",
       "      <td>50</td>\n",
       "      <td>0</td>\n",
       "      <td>NaN</td>\n",
       "      <td>280</td>\n",
       "      <td>17000</td>\n",
       "      <td>4</td>\n",
       "      <td>As new</td>\n",
       "      <td>0</td>\n",
       "      <td>3150</td>\n",
       "      <td>4911</td>\n",
       "    </tr>\n",
       "  </tbody>\n",
       "</table>\n",
       "</div>"
      ],
      "text/plain": [
       "          locality    proprety_type     price  bedrooms  area  \\\n",
       "3144   3150 Haacht  Apartment block  35000000         2   201   \n",
       "3803   3150 Haacht            House   1950000         8   500   \n",
       "7688  3150 Tildonk      Manor house   1375000         3   280   \n",
       "\n",
       "     equipped_kitchen  furnished  open_fire  terrace  terrace_area  garden  \\\n",
       "3144        Installed          0          0        0           NaN       0   \n",
       "3803   Hyper equipped          0          0        0           NaN       0   \n",
       "7688   Hyper equipped          0          0        1            50       0   \n",
       "\n",
       "      garden_area  surface  surface_plot  facades    state  swimming_pool  \\\n",
       "3144          NaN      201           201        4     Good              0   \n",
       "3803          NaN      500        100000        4     Good              0   \n",
       "7688          NaN      280         17000        4   As new              0   \n",
       "\n",
       "     locality_code  price_square_meters  \n",
       "3144          3150               173752  \n",
       "3803          3150                 3900  \n",
       "7688          3150                 4911  "
      ]
     },
     "execution_count": 161,
     "metadata": {},
     "output_type": "execute_result"
    }
   ],
   "source": [
    "df[df['locality_code'] == \"3150\"]\n",
    "# not enough data to conclude (only three properties, one of which has a much larger price compared to the rest of the whole dataframe)"
   ]
  },
  {
   "cell_type": "markdown",
   "metadata": {},
   "source": [
    "### Median price per locality :"
   ]
  },
  {
   "cell_type": "code",
   "execution_count": 198,
   "metadata": {},
   "outputs": [
    {
     "data": {
      "text/plain": [
       "locality_code\n",
       "3470   3900000\n",
       "8554   3300000\n",
       "1404   3200000\n",
       "2240   2975000\n",
       "5520   2822500\n",
       "Name: price, dtype: float64"
      ]
     },
     "execution_count": 198,
     "metadata": {},
     "output_type": "execute_result"
    }
   ],
   "source": [
    "df.groupby(\"locality_code\")[\"price\"].median().sort_values(ascending=False).head()"
   ]
  },
  {
   "cell_type": "code",
   "execution_count": 197,
   "metadata": {},
   "outputs": [
    {
     "data": {
      "text/html": [
       "<div>\n",
       "<style scoped>\n",
       "    .dataframe tbody tr th:only-of-type {\n",
       "        vertical-align: middle;\n",
       "    }\n",
       "\n",
       "    .dataframe tbody tr th {\n",
       "        vertical-align: top;\n",
       "    }\n",
       "\n",
       "    .dataframe thead th {\n",
       "        text-align: right;\n",
       "    }\n",
       "</style>\n",
       "<table border=\"1\" class=\"dataframe\">\n",
       "  <thead>\n",
       "    <tr style=\"text-align: right;\">\n",
       "      <th></th>\n",
       "      <th>locality</th>\n",
       "      <th>proprety_type</th>\n",
       "      <th>price</th>\n",
       "      <th>bedrooms</th>\n",
       "      <th>area</th>\n",
       "      <th>equipped_kitchen</th>\n",
       "      <th>furnished</th>\n",
       "      <th>open_fire</th>\n",
       "      <th>terrace</th>\n",
       "      <th>terrace_area</th>\n",
       "      <th>garden</th>\n",
       "      <th>garden_area</th>\n",
       "      <th>surface</th>\n",
       "      <th>surface_plot</th>\n",
       "      <th>facades</th>\n",
       "      <th>state</th>\n",
       "      <th>swimming_pool</th>\n",
       "      <th>locality_code</th>\n",
       "      <th>price_square_meters</th>\n",
       "    </tr>\n",
       "  </thead>\n",
       "  <tbody>\n",
       "    <tr>\n",
       "      <th>3266</th>\n",
       "      <td>3470 Kortenaken</td>\n",
       "      <td>Castle</td>\n",
       "      <td>3900000</td>\n",
       "      <td>9</td>\n",
       "      <td>1300</td>\n",
       "      <td>Installed</td>\n",
       "      <td>0</td>\n",
       "      <td>0</td>\n",
       "      <td>0</td>\n",
       "      <td>NaN</td>\n",
       "      <td>0</td>\n",
       "      <td>NaN</td>\n",
       "      <td>1300</td>\n",
       "      <td>250000</td>\n",
       "      <td>4</td>\n",
       "      <td>As new</td>\n",
       "      <td>0</td>\n",
       "      <td>3470</td>\n",
       "      <td>3000</td>\n",
       "    </tr>\n",
       "  </tbody>\n",
       "</table>\n",
       "</div>"
      ],
      "text/plain": [
       "             locality proprety_type    price  bedrooms  area equipped_kitchen  \\\n",
       "3266  3470 Kortenaken        Castle  3900000         9  1300        Installed   \n",
       "\n",
       "      furnished  open_fire  terrace  terrace_area  garden  garden_area  \\\n",
       "3266          0          0        0           NaN       0          NaN   \n",
       "\n",
       "      surface  surface_plot  facades    state  swimming_pool locality_code  \\\n",
       "3266     1300        250000        4   As new              0          3470   \n",
       "\n",
       "      price_square_meters  \n",
       "3266                 3000  "
      ]
     },
     "execution_count": 197,
     "metadata": {},
     "output_type": "execute_result"
    }
   ],
   "source": [
    "df[df['locality_code'] == \"3470\"] # not enough data to make conclusions"
   ]
  },
  {
   "cell_type": "markdown",
   "metadata": {},
   "source": [
    "### Mean square meter price per locality :"
   ]
  },
  {
   "cell_type": "code",
   "execution_count": 164,
   "metadata": {},
   "outputs": [
    {
     "data": {
      "text/plain": [
       "locality_code\n",
       "3150   60854\n",
       "2240   14769\n",
       "8300   11647\n",
       "8301    9076\n",
       "6680    8788\n",
       "1950    8095\n",
       "2520    8059\n",
       "1602    7943\n",
       "9111    7271\n",
       "3660    6900\n",
       "Name: price_square_meters, dtype: float64"
      ]
     },
     "execution_count": 164,
     "metadata": {},
     "output_type": "execute_result"
    }
   ],
   "source": [
    "df.groupby(\"locality_code\")[\"price_square_meters\"].mean().sort_values(ascending=False).head(10)"
   ]
  },
  {
   "cell_type": "code",
   "execution_count": 168,
   "metadata": {},
   "outputs": [
    {
     "data": {
      "text/html": [
       "<div>\n",
       "<style scoped>\n",
       "    .dataframe tbody tr th:only-of-type {\n",
       "        vertical-align: middle;\n",
       "    }\n",
       "\n",
       "    .dataframe tbody tr th {\n",
       "        vertical-align: top;\n",
       "    }\n",
       "\n",
       "    .dataframe thead th {\n",
       "        text-align: right;\n",
       "    }\n",
       "</style>\n",
       "<table border=\"1\" class=\"dataframe\">\n",
       "  <thead>\n",
       "    <tr style=\"text-align: right;\">\n",
       "      <th></th>\n",
       "      <th>locality</th>\n",
       "      <th>proprety_type</th>\n",
       "      <th>price</th>\n",
       "      <th>bedrooms</th>\n",
       "      <th>area</th>\n",
       "      <th>equipped_kitchen</th>\n",
       "      <th>furnished</th>\n",
       "      <th>open_fire</th>\n",
       "      <th>terrace</th>\n",
       "      <th>terrace_area</th>\n",
       "      <th>garden</th>\n",
       "      <th>garden_area</th>\n",
       "      <th>surface</th>\n",
       "      <th>surface_plot</th>\n",
       "      <th>facades</th>\n",
       "      <th>state</th>\n",
       "      <th>swimming_pool</th>\n",
       "      <th>locality_code</th>\n",
       "      <th>price_square_meters</th>\n",
       "    </tr>\n",
       "  </thead>\n",
       "  <tbody>\n",
       "    <tr>\n",
       "      <th>3377</th>\n",
       "      <td>2240 Zandhoven</td>\n",
       "      <td>House</td>\n",
       "      <td>2975000</td>\n",
       "      <td>5</td>\n",
       "      <td>201</td>\n",
       "      <td>USA hyper equipped</td>\n",
       "      <td>0</td>\n",
       "      <td>0</td>\n",
       "      <td>0</td>\n",
       "      <td>NaN</td>\n",
       "      <td>0</td>\n",
       "      <td>NaN</td>\n",
       "      <td>201</td>\n",
       "      <td>29361</td>\n",
       "      <td>4</td>\n",
       "      <td>As new</td>\n",
       "      <td>0</td>\n",
       "      <td>2240</td>\n",
       "      <td>14769</td>\n",
       "    </tr>\n",
       "  </tbody>\n",
       "</table>\n",
       "</div>"
      ],
      "text/plain": [
       "            locality proprety_type    price  bedrooms  area  \\\n",
       "3377  2240 Zandhoven         House  2975000         5   201   \n",
       "\n",
       "        equipped_kitchen  furnished  open_fire  terrace  terrace_area  garden  \\\n",
       "3377  USA hyper equipped          0          0        0           NaN       0   \n",
       "\n",
       "      garden_area  surface  surface_plot  facades    state  swimming_pool  \\\n",
       "3377          NaN      201         29361        4   As new              0   \n",
       "\n",
       "     locality_code  price_square_meters  \n",
       "3377          2240                14769  "
      ]
     },
     "execution_count": 168,
     "metadata": {},
     "output_type": "execute_result"
    }
   ],
   "source": [
    "df[df['locality_code'] == \"2240\"] # not enough data to make conclusions (only one property for sale in Zandhoven)"
   ]
  },
  {
   "cell_type": "markdown",
   "metadata": {},
   "source": [
    "### Median square meter price per locality :"
   ]
  },
  {
   "cell_type": "code",
   "execution_count": 166,
   "metadata": {},
   "outputs": [
    {
     "data": {
      "text/plain": [
       "locality_code\n",
       "2240   14769\n",
       "8300    9690\n",
       "8301    9409\n",
       "1950    9184\n",
       "9111    9027\n",
       "6680    8788\n",
       "1602    7943\n",
       "3660    6900\n",
       "5561    6702\n",
       "8554    6600\n",
       "Name: price_square_meters, dtype: float64"
      ]
     },
     "execution_count": 166,
     "metadata": {},
     "output_type": "execute_result"
    }
   ],
   "source": [
    "df.groupby(\"locality_code\")[\"price_square_meters\"].median().sort_values(ascending=False).head(10)"
   ]
  },
  {
   "cell_type": "code",
   "execution_count": 215,
   "metadata": {},
   "outputs": [
    {
     "data": {
      "text/html": [
       "<div>\n",
       "<style scoped>\n",
       "    .dataframe tbody tr th:only-of-type {\n",
       "        vertical-align: middle;\n",
       "    }\n",
       "\n",
       "    .dataframe tbody tr th {\n",
       "        vertical-align: top;\n",
       "    }\n",
       "\n",
       "    .dataframe thead th {\n",
       "        text-align: right;\n",
       "    }\n",
       "</style>\n",
       "<table border=\"1\" class=\"dataframe\">\n",
       "  <thead>\n",
       "    <tr style=\"text-align: right;\">\n",
       "      <th></th>\n",
       "      <th>locality</th>\n",
       "      <th>proprety_type</th>\n",
       "      <th>price</th>\n",
       "      <th>bedrooms</th>\n",
       "      <th>area</th>\n",
       "      <th>equipped_kitchen</th>\n",
       "      <th>furnished</th>\n",
       "      <th>open_fire</th>\n",
       "      <th>terrace</th>\n",
       "      <th>terrace_area</th>\n",
       "      <th>garden</th>\n",
       "      <th>garden_area</th>\n",
       "      <th>surface</th>\n",
       "      <th>surface_plot</th>\n",
       "      <th>facades</th>\n",
       "      <th>state</th>\n",
       "      <th>swimming_pool</th>\n",
       "      <th>locality_code</th>\n",
       "      <th>price_square_meters</th>\n",
       "    </tr>\n",
       "  </thead>\n",
       "  <tbody>\n",
       "    <tr>\n",
       "      <th>3158</th>\n",
       "      <td>8300 Knokke-Heist Knokke</td>\n",
       "      <td>Exceptional property</td>\n",
       "      <td>5900000</td>\n",
       "      <td>12</td>\n",
       "      <td>995</td>\n",
       "      <td>Installed</td>\n",
       "      <td>0</td>\n",
       "      <td>0</td>\n",
       "      <td>0</td>\n",
       "      <td>NaN</td>\n",
       "      <td>0</td>\n",
       "      <td>NaN</td>\n",
       "      <td>995</td>\n",
       "      <td>995</td>\n",
       "      <td>2</td>\n",
       "      <td>Good</td>\n",
       "      <td>0</td>\n",
       "      <td>8300</td>\n",
       "      <td>5930</td>\n",
       "    </tr>\n",
       "    <tr>\n",
       "      <th>3160</th>\n",
       "      <td>8300 Knokke</td>\n",
       "      <td>House</td>\n",
       "      <td>5900000</td>\n",
       "      <td>2</td>\n",
       "      <td>1000</td>\n",
       "      <td>Installed</td>\n",
       "      <td>0</td>\n",
       "      <td>0</td>\n",
       "      <td>0</td>\n",
       "      <td>NaN</td>\n",
       "      <td>0</td>\n",
       "      <td>NaN</td>\n",
       "      <td>1000</td>\n",
       "      <td>250</td>\n",
       "      <td>2</td>\n",
       "      <td>Good</td>\n",
       "      <td>0</td>\n",
       "      <td>8300</td>\n",
       "      <td>5900</td>\n",
       "    </tr>\n",
       "    <tr>\n",
       "      <th>3169</th>\n",
       "      <td>8300 Knokke-Heist</td>\n",
       "      <td>Villa</td>\n",
       "      <td>5250000</td>\n",
       "      <td>5</td>\n",
       "      <td>368</td>\n",
       "      <td>USA hyper equipped</td>\n",
       "      <td>0</td>\n",
       "      <td>0</td>\n",
       "      <td>0</td>\n",
       "      <td>NaN</td>\n",
       "      <td>1</td>\n",
       "      <td>1143</td>\n",
       "      <td>368</td>\n",
       "      <td>1143</td>\n",
       "      <td>4</td>\n",
       "      <td>As new</td>\n",
       "      <td>0</td>\n",
       "      <td>8300</td>\n",
       "      <td>14266</td>\n",
       "    </tr>\n",
       "    <tr>\n",
       "      <th>3177</th>\n",
       "      <td>8300 Knokke-Heist</td>\n",
       "      <td>Ground floor</td>\n",
       "      <td>4950000</td>\n",
       "      <td>4</td>\n",
       "      <td>188</td>\n",
       "      <td>Hyper equipped</td>\n",
       "      <td>0</td>\n",
       "      <td>0</td>\n",
       "      <td>0</td>\n",
       "      <td>NaN</td>\n",
       "      <td>1</td>\n",
       "      <td>350</td>\n",
       "      <td>188</td>\n",
       "      <td>188</td>\n",
       "      <td>3</td>\n",
       "      <td>As new</td>\n",
       "      <td>0</td>\n",
       "      <td>8300</td>\n",
       "      <td>26330</td>\n",
       "    </tr>\n",
       "    <tr>\n",
       "      <th>3180</th>\n",
       "      <td>8300 Knokke-Heist</td>\n",
       "      <td>Ground floor</td>\n",
       "      <td>4950000</td>\n",
       "      <td>4</td>\n",
       "      <td>188</td>\n",
       "      <td>USA hyper equipped</td>\n",
       "      <td>0</td>\n",
       "      <td>0</td>\n",
       "      <td>0</td>\n",
       "      <td>NaN</td>\n",
       "      <td>0</td>\n",
       "      <td>NaN</td>\n",
       "      <td>188</td>\n",
       "      <td>188</td>\n",
       "      <td>3</td>\n",
       "      <td>Good</td>\n",
       "      <td>0</td>\n",
       "      <td>8300</td>\n",
       "      <td>26330</td>\n",
       "    </tr>\n",
       "    <tr>\n",
       "      <th>...</th>\n",
       "      <td>...</td>\n",
       "      <td>...</td>\n",
       "      <td>...</td>\n",
       "      <td>...</td>\n",
       "      <td>...</td>\n",
       "      <td>...</td>\n",
       "      <td>...</td>\n",
       "      <td>...</td>\n",
       "      <td>...</td>\n",
       "      <td>...</td>\n",
       "      <td>...</td>\n",
       "      <td>...</td>\n",
       "      <td>...</td>\n",
       "      <td>...</td>\n",
       "      <td>...</td>\n",
       "      <td>...</td>\n",
       "      <td>...</td>\n",
       "      <td>...</td>\n",
       "      <td>...</td>\n",
       "    </tr>\n",
       "    <tr>\n",
       "      <th>12343</th>\n",
       "      <td>8300 Knokke-Heist</td>\n",
       "      <td>Apartment</td>\n",
       "      <td>915000</td>\n",
       "      <td>2</td>\n",
       "      <td>201</td>\n",
       "      <td>Installed</td>\n",
       "      <td>0</td>\n",
       "      <td>0</td>\n",
       "      <td>1</td>\n",
       "      <td>38</td>\n",
       "      <td>0</td>\n",
       "      <td>NaN</td>\n",
       "      <td>201</td>\n",
       "      <td>201</td>\n",
       "      <td>2</td>\n",
       "      <td>As new</td>\n",
       "      <td>0</td>\n",
       "      <td>8300</td>\n",
       "      <td>4542</td>\n",
       "    </tr>\n",
       "    <tr>\n",
       "      <th>12403</th>\n",
       "      <td>8300 Knokke-Heist</td>\n",
       "      <td>Apartment</td>\n",
       "      <td>899000</td>\n",
       "      <td>3</td>\n",
       "      <td>201</td>\n",
       "      <td>Installed</td>\n",
       "      <td>0</td>\n",
       "      <td>0</td>\n",
       "      <td>0</td>\n",
       "      <td>NaN</td>\n",
       "      <td>0</td>\n",
       "      <td>NaN</td>\n",
       "      <td>201</td>\n",
       "      <td>201</td>\n",
       "      <td>2</td>\n",
       "      <td>Good</td>\n",
       "      <td>0</td>\n",
       "      <td>8300</td>\n",
       "      <td>4463</td>\n",
       "    </tr>\n",
       "    <tr>\n",
       "      <th>12405</th>\n",
       "      <td>8300 Knokke-Heist</td>\n",
       "      <td>Duplex</td>\n",
       "      <td>899000</td>\n",
       "      <td>3</td>\n",
       "      <td>120</td>\n",
       "      <td>Installed</td>\n",
       "      <td>0</td>\n",
       "      <td>0</td>\n",
       "      <td>1</td>\n",
       "      <td>15</td>\n",
       "      <td>0</td>\n",
       "      <td>NaN</td>\n",
       "      <td>120</td>\n",
       "      <td>120</td>\n",
       "      <td>2</td>\n",
       "      <td>As new</td>\n",
       "      <td>0</td>\n",
       "      <td>8300</td>\n",
       "      <td>7492</td>\n",
       "    </tr>\n",
       "    <tr>\n",
       "      <th>12435</th>\n",
       "      <td>8300 Knokke-Heist</td>\n",
       "      <td>Apartment</td>\n",
       "      <td>895000</td>\n",
       "      <td>3</td>\n",
       "      <td>106</td>\n",
       "      <td>Hyper equipped</td>\n",
       "      <td>0</td>\n",
       "      <td>0</td>\n",
       "      <td>0</td>\n",
       "      <td>NaN</td>\n",
       "      <td>0</td>\n",
       "      <td>NaN</td>\n",
       "      <td>106</td>\n",
       "      <td>106</td>\n",
       "      <td>2</td>\n",
       "      <td>As new</td>\n",
       "      <td>0</td>\n",
       "      <td>8300</td>\n",
       "      <td>8443</td>\n",
       "    </tr>\n",
       "    <tr>\n",
       "      <th>12436</th>\n",
       "      <td>8300 Knokke-Heist</td>\n",
       "      <td>Duplex</td>\n",
       "      <td>895000</td>\n",
       "      <td>3</td>\n",
       "      <td>106</td>\n",
       "      <td>USA hyper equipped</td>\n",
       "      <td>0</td>\n",
       "      <td>0</td>\n",
       "      <td>0</td>\n",
       "      <td>NaN</td>\n",
       "      <td>0</td>\n",
       "      <td>NaN</td>\n",
       "      <td>106</td>\n",
       "      <td>106</td>\n",
       "      <td>2</td>\n",
       "      <td>As new</td>\n",
       "      <td>0</td>\n",
       "      <td>8300</td>\n",
       "      <td>8443</td>\n",
       "    </tr>\n",
       "  </tbody>\n",
       "</table>\n",
       "<p>303 rows × 19 columns</p>\n",
       "</div>"
      ],
      "text/plain": [
       "                       locality         proprety_type    price  bedrooms  \\\n",
       "3158   8300 Knokke-Heist Knokke  Exceptional property  5900000        12   \n",
       "3160                8300 Knokke                 House  5900000         2   \n",
       "3169          8300 Knokke-Heist                 Villa  5250000         5   \n",
       "3177          8300 Knokke-Heist          Ground floor  4950000         4   \n",
       "3180          8300 Knokke-Heist          Ground floor  4950000         4   \n",
       "...                         ...                   ...      ...       ...   \n",
       "12343         8300 Knokke-Heist             Apartment   915000         2   \n",
       "12403         8300 Knokke-Heist             Apartment   899000         3   \n",
       "12405         8300 Knokke-Heist                Duplex   899000         3   \n",
       "12435         8300 Knokke-Heist             Apartment   895000         3   \n",
       "12436         8300 Knokke-Heist                Duplex   895000         3   \n",
       "\n",
       "       area    equipped_kitchen  furnished  open_fire  terrace  terrace_area  \\\n",
       "3158    995           Installed          0          0        0           NaN   \n",
       "3160   1000           Installed          0          0        0           NaN   \n",
       "3169    368  USA hyper equipped          0          0        0           NaN   \n",
       "3177    188      Hyper equipped          0          0        0           NaN   \n",
       "3180    188  USA hyper equipped          0          0        0           NaN   \n",
       "...     ...                 ...        ...        ...      ...           ...   \n",
       "12343   201           Installed          0          0        1            38   \n",
       "12403   201           Installed          0          0        0           NaN   \n",
       "12405   120           Installed          0          0        1            15   \n",
       "12435   106      Hyper equipped          0          0        0           NaN   \n",
       "12436   106  USA hyper equipped          0          0        0           NaN   \n",
       "\n",
       "       garden  garden_area  surface  surface_plot  facades    state  \\\n",
       "3158        0          NaN      995           995        2     Good   \n",
       "3160        0          NaN     1000           250        2     Good   \n",
       "3169        1         1143      368          1143        4   As new   \n",
       "3177        1          350      188           188        3   As new   \n",
       "3180        0          NaN      188           188        3     Good   \n",
       "...       ...          ...      ...           ...      ...      ...   \n",
       "12343       0          NaN      201           201        2   As new   \n",
       "12403       0          NaN      201           201        2     Good   \n",
       "12405       0          NaN      120           120        2   As new   \n",
       "12435       0          NaN      106           106        2   As new   \n",
       "12436       0          NaN      106           106        2   As new   \n",
       "\n",
       "       swimming_pool locality_code  price_square_meters  \n",
       "3158               0          8300                 5930  \n",
       "3160               0          8300                 5900  \n",
       "3169               0          8300                14266  \n",
       "3177               0          8300                26330  \n",
       "3180               0          8300                26330  \n",
       "...              ...           ...                  ...  \n",
       "12343              0          8300                 4542  \n",
       "12403              0          8300                 4463  \n",
       "12405              0          8300                 7492  \n",
       "12435              0          8300                 8443  \n",
       "12436              0          8300                 8443  \n",
       "\n",
       "[303 rows x 19 columns]"
      ]
     },
     "execution_count": 215,
     "metadata": {},
     "output_type": "execute_result"
    }
   ],
   "source": [
    "df[df['locality_code'] == \"8300\"]\n",
    "# According to our data, Knokke-Heist (8300) (303 inputs) seems to be the most expensive locality of Belgium,\n",
    "# followed by Heist-aan-Zee (8301) (45 inputs) and Kraainem 1950 (44 inputs)."
   ]
  }
 ],
 "metadata": {
  "interpreter": {
   "hash": "64ad74572713e1424aba17af2f2fec00dd5a333d38ecaeb2e72657fb56da8a81"
  },
  "kernelspec": {
   "display_name": "Python 3.10.0 64-bit",
   "language": "python",
   "name": "python3"
  },
  "language_info": {
   "codemirror_mode": {
    "name": "ipython",
    "version": 3
   },
   "file_extension": ".py",
   "mimetype": "text/x-python",
   "name": "python",
   "nbconvert_exporter": "python",
   "pygments_lexer": "ipython3",
   "version": "3.10.0"
  },
  "orig_nbformat": 4
 },
 "nbformat": 4,
 "nbformat_minor": 2
}
